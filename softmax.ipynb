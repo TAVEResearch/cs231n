{
  "nbformat": 4,
  "nbformat_minor": 0,
  "metadata": {
    "colab": {
      "name": "softmax.ipynb",
      "provenance": [],
      "authorship_tag": "ABX9TyNP8Yi8gkEUGpF25CT5hrlC",
      "include_colab_link": true
    },
    "kernelspec": {
      "name": "python3",
      "display_name": "Python 3"
    },
    "language_info": {
      "name": "python"
    }
  },
  "cells": [
    {
      "cell_type": "markdown",
      "metadata": {
        "id": "view-in-github",
        "colab_type": "text"
      },
      "source": [
        "<a href=\"https://colab.research.google.com/github/TAVEResearch/cs231n/blob/main/softmax.ipynb\" target=\"_parent\"><img src=\"https://colab.research.google.com/assets/colab-badge.svg\" alt=\"Open In Colab\"/></a>"
      ]
    },
    {
      "cell_type": "markdown",
      "metadata": {
        "id": "kaFFEjHncYZW"
      },
      "source": [
        "# softmax"
      ]
    },
    {
      "cell_type": "code",
      "metadata": {
        "colab": {
          "base_uri": "https://localhost:8080/"
        },
        "id": "o9088L57cbkf",
        "outputId": "8674d7ec-59cb-4993-ffcf-47abe438cbe7"
      },
      "source": [
        "!git clone --recurse-submodules https://github.com/jariasf/CS231n.git  # clone repo\n",
        "%cd /content/CS231n/assignment1/"
      ],
      "execution_count": 1,
      "outputs": [
        {
          "output_type": "stream",
          "name": "stdout",
          "text": [
            "Cloning into 'CS231n'...\n",
            "remote: Enumerating objects: 404, done.\u001b[K\n",
            "remote: Counting objects: 100% (72/72), done.\u001b[K\n",
            "remote: Compressing objects: 100% (72/72), done.\u001b[K\n",
            "remote: Total 404 (delta 54), reused 0 (delta 0), pack-reused 332\u001b[K\n",
            "Receiving objects: 100% (404/404), 16.74 MiB | 20.29 MiB/s, done.\n",
            "Resolving deltas: 100% (219/219), done.\n",
            "/content/CS231n/assignment1\n"
          ]
        }
      ]
    },
    {
      "cell_type": "code",
      "metadata": {
        "id": "eVOxZIONcUiF"
      },
      "source": [
        "import random\n",
        "import numpy as np\n",
        "from cs231n.data_utils import load_CIFAR10\n",
        "import matplotlib.pyplot as plt\n",
        "\n",
        "from __future__ import print_function\n",
        "\n",
        "%matplotlib inline\n",
        "plt.rcParams['figure.figsize'] = (10.0, 8.0) # set default size of plots\n",
        "plt.rcParams['image.interpolation'] = 'nearest'\n",
        "plt.rcParams['image.cmap'] = 'gray'\n",
        "\n",
        "# for auto-reloading extenrnal modules\n",
        "# see http://stackoverflow.com/questions/1907993/autoreload-of-modules-in-ipython\n",
        "%load_ext autoreload\n",
        "%autoreload 2"
      ],
      "execution_count": 3,
      "outputs": []
    },
    {
      "cell_type": "code",
      "metadata": {
        "colab": {
          "base_uri": "https://localhost:8080/"
        },
        "id": "kraKymvNcfe_",
        "outputId": "cde4750e-3cf8-4be5-e2ba-c358e40cf653"
      },
      "source": [
        "%cd cs231n/datasets/\n",
        "!wget http://www.cs.toronto.edu/~kriz/cifar-10-python.tar.gz\n",
        "!tar -xzvf cifar-10-python.tar.gz\n",
        "!rm cifar-10-python.tar.gz "
      ],
      "execution_count": 4,
      "outputs": [
        {
          "output_type": "stream",
          "name": "stdout",
          "text": [
            "/content/CS231n/assignment1/cs231n/datasets\n",
            "--2021-11-12 04:42:05--  http://www.cs.toronto.edu/~kriz/cifar-10-python.tar.gz\n",
            "Resolving www.cs.toronto.edu (www.cs.toronto.edu)... 128.100.3.30\n",
            "Connecting to www.cs.toronto.edu (www.cs.toronto.edu)|128.100.3.30|:80... connected.\n",
            "HTTP request sent, awaiting response... 200 OK\n",
            "Length: 170498071 (163M) [application/x-gzip]\n",
            "Saving to: ‘cifar-10-python.tar.gz’\n",
            "\n",
            "cifar-10-python.tar 100%[===================>] 162.60M  68.7MB/s    in 2.4s    \n",
            "\n",
            "2021-11-12 04:42:08 (68.7 MB/s) - ‘cifar-10-python.tar.gz’ saved [170498071/170498071]\n",
            "\n",
            "cifar-10-batches-py/\n",
            "cifar-10-batches-py/data_batch_4\n",
            "cifar-10-batches-py/readme.html\n",
            "cifar-10-batches-py/test_batch\n",
            "cifar-10-batches-py/data_batch_3\n",
            "cifar-10-batches-py/batches.meta\n",
            "cifar-10-batches-py/data_batch_2\n",
            "cifar-10-batches-py/data_batch_5\n",
            "cifar-10-batches-py/data_batch_1\n"
          ]
        }
      ]
    },
    {
      "cell_type": "code",
      "metadata": {
        "colab": {
          "base_uri": "https://localhost:8080/"
        },
        "id": "f7wumFzhcgzv",
        "outputId": "54fe66f9-4c1f-497d-e471-7c49f0ead911"
      },
      "source": [
        "def get_CIFAR10_data(num_training=49000, num_validation=1000, num_test=1000, num_dev=500):\n",
        "    \"\"\"\n",
        "    Load the CIFAR-10 dataset from disk and perform preprocessing to prepare\n",
        "    it for the linear classifier. These are the same steps as we used for the\n",
        "    SVM, but condensed to a single function.  \n",
        "    \"\"\"\n",
        "    # Load the raw CIFAR-10 data\n",
        "    cifar10_dir = '/content/CS231n/assignment1/cs231n/datasets/cifar-10-batches-py'\n",
        "    X_train, y_train, X_test, y_test = load_CIFAR10(cifar10_dir)\n",
        "    \n",
        "    # subsample the data\n",
        "    mask = list(range(num_training, num_training + num_validation))\n",
        "    X_val = X_train[mask]\n",
        "    y_val = y_train[mask]\n",
        "    mask = list(range(num_training))\n",
        "    X_train = X_train[mask]\n",
        "    y_train = y_train[mask]\n",
        "    mask = list(range(num_test))\n",
        "    X_test = X_test[mask]\n",
        "    y_test = y_test[mask]\n",
        "    mask = np.random.choice(num_training, num_dev, replace=False)\n",
        "    X_dev = X_train[mask]\n",
        "    y_dev = y_train[mask]\n",
        "    \n",
        "    # Preprocessing: reshape the image data into rows\n",
        "    X_train = np.reshape(X_train, (X_train.shape[0], -1))\n",
        "    X_val = np.reshape(X_val, (X_val.shape[0], -1))\n",
        "    X_test = np.reshape(X_test, (X_test.shape[0], -1))\n",
        "    X_dev = np.reshape(X_dev, (X_dev.shape[0], -1))\n",
        "    \n",
        "    # Normalize the data: subtract the mean image\n",
        "    mean_image = np.mean(X_train, axis = 0)\n",
        "    X_train -= mean_image\n",
        "    X_val -= mean_image\n",
        "    X_test -= mean_image\n",
        "    X_dev -= mean_image\n",
        "    \n",
        "    # add bias dimension and transform into columns\n",
        "    X_train = np.hstack([X_train, np.ones((X_train.shape[0], 1))])\n",
        "    X_val = np.hstack([X_val, np.ones((X_val.shape[0], 1))])\n",
        "    X_test = np.hstack([X_test, np.ones((X_test.shape[0], 1))])\n",
        "    X_dev = np.hstack([X_dev, np.ones((X_dev.shape[0], 1))])\n",
        "    \n",
        "    return X_train, y_train, X_val, y_val, X_test, y_test, X_dev, y_dev\n",
        "\n",
        "\n",
        "# Invoke the above function to get our data.\n",
        "X_train, y_train, X_val, y_val, X_test, y_test, X_dev, y_dev = get_CIFAR10_data()\n",
        "print('Train data shape: ', X_train.shape)\n",
        "print('Train labels shape: ', y_train.shape)\n",
        "print('Validation data shape: ', X_val.shape)\n",
        "print('Validation labels shape: ', y_val.shape)\n",
        "print('Test data shape: ', X_test.shape)\n",
        "print('Test labels shape: ', y_test.shape)\n",
        "print('dev data shape: ', X_dev.shape)\n",
        "print('dev labels shape: ', y_dev.shape)"
      ],
      "execution_count": 5,
      "outputs": [
        {
          "output_type": "stream",
          "name": "stdout",
          "text": [
            "Train data shape:  (49000, 3073)\n",
            "Train labels shape:  (49000,)\n",
            "Validation data shape:  (1000, 3073)\n",
            "Validation labels shape:  (1000,)\n",
            "Test data shape:  (1000, 3073)\n",
            "Test labels shape:  (1000,)\n",
            "dev data shape:  (500, 3073)\n",
            "dev labels shape:  (500,)\n"
          ]
        }
      ]
    },
    {
      "cell_type": "markdown",
      "metadata": {
        "id": "i1ZQmQgmcnRg"
      },
      "source": [
        "Softmax classifier"
      ]
    },
    {
      "cell_type": "code",
      "metadata": {
        "colab": {
          "base_uri": "https://localhost:8080/"
        },
        "id": "SVYH5epXcm93",
        "outputId": "1f7818ee-8b8d-449a-e518-1a2ebc25f312"
      },
      "source": [
        "# First implement the naive softmax loss function with nested loops.\n",
        "# Open the file cs231n/classifiers/softmax.py and implement the\n",
        "# softmax_loss_naive function.\n",
        "\n",
        "from cs231n.classifiers.softmax import softmax_loss_naive\n",
        "import time\n",
        "\n",
        "# Generate a random softmax weight matrix and use it to compute the loss.\n",
        "W = np.random.randn(3073, 10) * 0.0001\n",
        "loss, grad = softmax_loss_naive(W, X_dev, y_dev, 0.0)\n",
        "\n",
        "# As a rough sanity check, our loss should be something close to -log(0.1).\n",
        "print('loss: %f' % loss)\n",
        "print('sanity check: %f' % (-np.log(0.1)))"
      ],
      "execution_count": 6,
      "outputs": [
        {
          "output_type": "stream",
          "name": "stdout",
          "text": [
            "loss: 2.337650\n",
            "sanity check: 2.302585\n"
          ]
        }
      ]
    },
    {
      "cell_type": "code",
      "metadata": {
        "colab": {
          "base_uri": "https://localhost:8080/"
        },
        "id": "RAbOVj9OcrtG",
        "outputId": "3ae0b4d1-a291-406e-a17d-83507434dc6c"
      },
      "source": [
        "# Complete the implementation of softmax_loss_naive and implement a (naive)\n",
        "# version of the gradient that uses nested loops.\n",
        "loss, grad = softmax_loss_naive(W, X_dev, y_dev, 0.0)\n",
        "\n",
        "# As we did for the SVM, use numeric gradient checking as a debugging tool.\n",
        "# The numeric gradient should be close to the analytic gradient.\n",
        "from cs231n.gradient_check import grad_check_sparse\n",
        "f = lambda w: softmax_loss_naive(w, X_dev, y_dev, 0.0)[0]\n",
        "grad_numerical = grad_check_sparse(f, W, grad, 10)\n",
        "\n",
        "# similar to SVM case, do another gradient check with regularization\n",
        "loss, grad = softmax_loss_naive(W, X_dev, y_dev, 5e1)\n",
        "f = lambda w: softmax_loss_naive(w, X_dev, y_dev, 5e1)[0]\n",
        "grad_numerical = grad_check_sparse(f, W, grad, 10)"
      ],
      "execution_count": 7,
      "outputs": [
        {
          "output_type": "stream",
          "name": "stdout",
          "text": [
            "numerical: -0.515507 analytic: -0.515507, relative error: 1.550673e-07\n",
            "numerical: 0.603094 analytic: 0.603094, relative error: 1.820594e-08\n",
            "numerical: 1.070349 analytic: 1.070349, relative error: 1.487773e-08\n",
            "numerical: 0.381230 analytic: 0.381230, relative error: 6.943181e-08\n",
            "numerical: 3.462861 analytic: 3.462861, relative error: 7.808980e-09\n",
            "numerical: -0.010491 analytic: -0.010491, relative error: 3.114849e-06\n",
            "numerical: 1.072918 analytic: 1.072918, relative error: 1.314311e-08\n",
            "numerical: 1.093623 analytic: 1.093623, relative error: 6.064130e-08\n",
            "numerical: 0.557956 analytic: 0.557956, relative error: 1.436582e-07\n",
            "numerical: 3.386070 analytic: 3.386070, relative error: 1.315087e-08\n",
            "numerical: -1.587161 analytic: -1.587161, relative error: 1.318205e-08\n",
            "numerical: -0.030826 analytic: -0.030826, relative error: 2.884688e-06\n",
            "numerical: -1.121441 analytic: -1.121441, relative error: 1.179216e-08\n",
            "numerical: -3.377735 analytic: -3.377735, relative error: 1.424567e-08\n",
            "numerical: 0.367538 analytic: 0.367538, relative error: 1.285327e-07\n",
            "numerical: 0.752821 analytic: 0.752821, relative error: 7.394910e-09\n",
            "numerical: -3.560021 analytic: -3.560021, relative error: 1.395423e-08\n",
            "numerical: 0.515062 analytic: 0.515062, relative error: 5.480399e-08\n",
            "numerical: -0.394836 analytic: -0.394836, relative error: 1.472212e-07\n",
            "numerical: -1.446114 analytic: -1.446114, relative error: 5.786049e-09\n"
          ]
        }
      ]
    },
    {
      "cell_type": "code",
      "metadata": {
        "colab": {
          "base_uri": "https://localhost:8080/"
        },
        "id": "kIg1ZGlEcuAW",
        "outputId": "cc17bdd0-9c70-42bc-c5b9-b77396b3698e"
      },
      "source": [
        "# Now that we have a naive implementation of the softmax loss function and its gradient,\n",
        "# implement a vectorized version in softmax_loss_vectorized.\n",
        "# The two versions should compute the same results, but the vectorized version should be\n",
        "# much faster.\n",
        "tic = time.time()\n",
        "loss_naive, grad_naive = softmax_loss_naive(W, X_dev, y_dev, 0.000005)\n",
        "toc = time.time()\n",
        "print('naive loss: %e computed in %fs' % (loss_naive, toc - tic))\n",
        "\n",
        "from cs231n.classifiers.softmax import softmax_loss_vectorized\n",
        "tic = time.time()\n",
        "loss_vectorized, grad_vectorized = softmax_loss_vectorized(W, X_dev, y_dev, 0.000005)\n",
        "toc = time.time()\n",
        "print('vectorized loss: %e computed in %fs' % (loss_vectorized, toc - tic))\n",
        "\n",
        "# As we did for the SVM, we use the Frobenius norm to compare the two versions\n",
        "# of the gradient.\n",
        "grad_difference = np.linalg.norm(grad_naive - grad_vectorized, ord='fro')\n",
        "print('Loss difference: %f' % np.abs(loss_naive - loss_vectorized))\n",
        "print('Gradient difference: %f' % grad_difference)"
      ],
      "execution_count": 8,
      "outputs": [
        {
          "output_type": "stream",
          "name": "stdout",
          "text": [
            "naive loss: 2.337650e+00 computed in 0.094971s\n",
            "vectorized loss: 2.337650e+00 computed in 0.013467s\n",
            "Loss difference: 0.000000\n",
            "Gradient difference: 0.000000\n"
          ]
        }
      ]
    },
    {
      "cell_type": "code",
      "metadata": {
        "colab": {
          "base_uri": "https://localhost:8080/"
        },
        "id": "GYs5BnaAcv3f",
        "outputId": "ef00d33e-66e2-4c91-8bfa-81d4ad139de4"
      },
      "source": [
        "# Use the validation set to tune hyperparameters (regularization strength and\n",
        "# learning rate). You should experiment with different ranges for the learning\n",
        "# rates and regularization strengths; if you are careful you should be able to\n",
        "# get a classification accuracy of over 0.35 on the validation set.\n",
        "from cs231n.classifiers import Softmax\n",
        "results = {}\n",
        "best_val = -1\n",
        "best_softmax = None\n",
        "learning_rates = [1e-8, 1e-7, 5e-7, 1e-6]\n",
        "regularization_strengths = [5e2, 1e3, 1e4, 5e4]\n",
        "\n",
        "################################################################################\n",
        "# TODO:                                                                        #\n",
        "# Use the validation set to set the learning rate and regularization strength. #\n",
        "# This should be identical to the validation that you did for the SVM; save    #\n",
        "# the best trained softmax classifer in best_softmax.                          #\n",
        "################################################################################\n",
        "\n",
        "softmax = Softmax()\n",
        "\n",
        "for lr in learning_rates:\n",
        "    for reg in regularization_strengths:\n",
        "        loss_hist = softmax.train(X_train, y_train, learning_rate=lr, reg=reg, num_iters=1500)\n",
        "        \n",
        "        y_train_pred = softmax.predict(X_train)\n",
        "        acc_train = np.mean(y_train == y_train_pred)\n",
        "        \n",
        "        y_val_pred = softmax.predict(X_val)\n",
        "        acc_val = np.mean(y_val == y_val_pred)\n",
        "        \n",
        "        results[(lr, reg)] = (acc_train, acc_val)\n",
        "        \n",
        "        if acc_val > best_val:\n",
        "            best_val = acc_val\n",
        "            best_softmax = softmax\n",
        "        \n",
        "        \n",
        "################################################################################\n",
        "#                              END OF YOUR CODE                                #\n",
        "################################################################################\n",
        "    \n",
        "# Print out results.\n",
        "for lr, reg in sorted(results):\n",
        "    train_accuracy, val_accuracy = results[(lr, reg)]\n",
        "    print('lr %e reg %e train accuracy: %f val accuracy: %f' % (\n",
        "                lr, reg, train_accuracy, val_accuracy))\n",
        "    \n",
        "print('best validation accuracy achieved during cross-validation: %f' % best_val)"
      ],
      "execution_count": 9,
      "outputs": [
        {
          "output_type": "stream",
          "name": "stdout",
          "text": [
            "lr 1.000000e-08 reg 5.000000e+02 train accuracy: 0.159531 val accuracy: 0.154000\n",
            "lr 1.000000e-08 reg 1.000000e+03 train accuracy: 0.181000 val accuracy: 0.170000\n",
            "lr 1.000000e-08 reg 1.000000e+04 train accuracy: 0.201082 val accuracy: 0.185000\n",
            "lr 1.000000e-08 reg 5.000000e+04 train accuracy: 0.263837 val accuracy: 0.262000\n",
            "lr 1.000000e-07 reg 5.000000e+02 train accuracy: 0.375061 val accuracy: 0.378000\n",
            "lr 1.000000e-07 reg 1.000000e+03 train accuracy: 0.390918 val accuracy: 0.405000\n",
            "lr 1.000000e-07 reg 1.000000e+04 train accuracy: 0.362408 val accuracy: 0.376000\n",
            "lr 1.000000e-07 reg 5.000000e+04 train accuracy: 0.312224 val accuracy: 0.327000\n",
            "lr 5.000000e-07 reg 5.000000e+02 train accuracy: 0.407878 val accuracy: 0.398000\n",
            "lr 5.000000e-07 reg 1.000000e+03 train accuracy: 0.404837 val accuracy: 0.396000\n",
            "lr 5.000000e-07 reg 1.000000e+04 train accuracy: 0.353000 val accuracy: 0.374000\n",
            "lr 5.000000e-07 reg 5.000000e+04 train accuracy: 0.311245 val accuracy: 0.320000\n",
            "lr 1.000000e-06 reg 5.000000e+02 train accuracy: 0.411388 val accuracy: 0.401000\n",
            "lr 1.000000e-06 reg 1.000000e+03 train accuracy: 0.401510 val accuracy: 0.403000\n",
            "lr 1.000000e-06 reg 1.000000e+04 train accuracy: 0.350204 val accuracy: 0.359000\n",
            "lr 1.000000e-06 reg 5.000000e+04 train accuracy: 0.283000 val accuracy: 0.289000\n",
            "best validation accuracy achieved during cross-validation: 0.405000\n"
          ]
        }
      ]
    },
    {
      "cell_type": "code",
      "metadata": {
        "colab": {
          "base_uri": "https://localhost:8080/"
        },
        "id": "rJMh1t18cxOW",
        "outputId": "f0e2c539-c735-4bbc-d284-9ce9503f2538"
      },
      "source": [
        "# evaluate on test set\n",
        "# Evaluate the best softmax on test set\n",
        "y_test_pred = best_softmax.predict(X_test)\n",
        "test_accuracy = np.mean(y_test == y_test_pred)\n",
        "print('softmax on raw pixels final test set accuracy: %f' % (test_accuracy, ))"
      ],
      "execution_count": 10,
      "outputs": [
        {
          "output_type": "stream",
          "name": "stdout",
          "text": [
            "softmax on raw pixels final test set accuracy: 0.277000\n"
          ]
        }
      ]
    },
    {
      "cell_type": "code",
      "metadata": {
        "colab": {
          "base_uri": "https://localhost:8080/",
          "height": 380
        },
        "id": "3GipaN6kcyXW",
        "outputId": "0eefe9bf-ef4d-4bfc-c919-627b7385d8e2"
      },
      "source": [
        "# Visualize the learned weights for each class\n",
        "w = best_softmax.W[:-1,:] # strip out the bias\n",
        "w = w.reshape(32, 32, 3, 10)\n",
        "\n",
        "w_min, w_max = np.min(w), np.max(w)\n",
        "\n",
        "classes = ['plane', 'car', 'bird', 'cat', 'deer', 'dog', 'frog', 'horse', 'ship', 'truck']\n",
        "for i in range(10):\n",
        "    plt.subplot(2, 5, i + 1)\n",
        "    \n",
        "    # Rescale the weights to be between 0 and 255\n",
        "    wimg = 255.0 * (w[:, :, :, i].squeeze() - w_min) / (w_max - w_min)\n",
        "    plt.imshow(wimg.astype('uint8'))\n",
        "    plt.axis('off')\n",
        "    plt.title(classes[i])"
      ],
      "execution_count": 11,
      "outputs": [
        {
          "output_type": "display_data",
          "data": {
            "image/png": "[encoded data removed]",
            "text/plain": [
              "<Figure size 720x576 with 10 Axes>"
            ]
          },
          "metadata": {
            "needs_background": "light"
          }
        }
      ]
    }
  ]
}